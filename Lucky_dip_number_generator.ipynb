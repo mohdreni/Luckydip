{
 "cells": [
  {
   "cell_type": "code",
   "execution_count": null,
   "metadata": {
    "collapsed": true
   },
   "outputs": [],
   "source": [
    "#This program will generte five main random number (1-50) and two lucky stars from (1-12) for Euro million play."
   ]
  },
  {
   "cell_type": "code",
   "execution_count": 12,
   "metadata": {
    "collapsed": true
   },
   "outputs": [],
   "source": [
    "import itertools\n",
    "import random"
   ]
  },
  {
   "cell_type": "code",
   "execution_count": 13,
   "metadata": {
    "collapsed": true
   },
   "outputs": [],
   "source": [
    "def gen_lotto():    \n",
    "    lotto_numbers = list(range(1,51))\n",
    "    lucky_numbers = list(range(1,13))\n",
    "    \n",
    "    all_5_comobos = list(itertools.combinations(lotto_numbers,5))\n",
    "    all_2_comobos = list(itertools.combinations(lucky_numbers,2))\n",
    "    \n",
    "    random.shuffle(all_5_comobos)\n",
    "    random.shuffle(all_2_comobos)\n",
    "    \n",
    "    my_5 = list(all_5_comobos[0])\n",
    "    my_2 = list(all_2_comobos[0])\n",
    "    \n",
    "    print(\"lukcy main\",my_5)\n",
    "    print(\"lucky star\",my_2)\n",
    "    print(\"good luck\")"
   ]
  },
  {
   "cell_type": "code",
   "execution_count": 14,
   "metadata": {
    "collapsed": false
   },
   "outputs": [
    {
     "name": "stdout",
     "output_type": "stream",
     "text": [
      "lukcy main [11, 30, 31, 40, 47]\n",
      "lucky star [2, 6]\n",
      "good luck\n"
     ]
    }
   ],
   "source": [
    "gen_lotto()"
   ]
  },
  {
   "cell_type": "code",
   "execution_count": null,
   "metadata": {
    "collapsed": true
   },
   "outputs": [],
   "source": []
  }
 ],
 "metadata": {
  "kernelspec": {
   "display_name": "Python 3",
   "language": "python",
   "name": "python3"
  },
  "language_info": {
   "codemirror_mode": {
    "name": "ipython",
    "version": 3
   },
   "file_extension": ".py",
   "mimetype": "text/x-python",
   "name": "python",
   "nbconvert_exporter": "python",
   "pygments_lexer": "ipython3",
   "version": "3.6.0"
  }
 },
 "nbformat": 4,
 "nbformat_minor": 2
}
